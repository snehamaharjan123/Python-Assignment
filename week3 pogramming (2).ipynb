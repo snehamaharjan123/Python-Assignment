{
 "cells": [
  {
   "cell_type": "code",
   "execution_count": 1,
   "id": "bc74b4d4-306b-43c4-991a-a4696480ad55",
   "metadata": {},
   "outputs": [
    {
     "name": "stdin",
     "output_type": "stream",
     "text": [
      "Enter your name:  sam\n"
     ]
    },
    {
     "name": "stdout",
     "output_type": "stream",
     "text": [
      "Hello, sam!\n"
     ]
    }
   ],
   "source": [
    "'''Modify your greeting program so that if the user does not enter a name (i.e. they\n",
    "just press enter), the program responds \"Hello, Stranger!\". Otherwise it should print\n",
    "a greeting with their name as before'''\n",
    "name = input(\"Enter your name: \")\n",
    "\n",
    "if name != \"\":  \n",
    "    print(f\"Hello, {name}!\")\n",
    "else:\n",
    "    print(\"Hello, {name}!\")\n"
   ]
  },
  {
   "cell_type": "code",
   "execution_count": 5,
   "id": "024cc2db-d3b8-4c82-b100-7308b3577861",
   "metadata": {},
   "outputs": [
    {
     "name": "stdin",
     "output_type": "stream",
     "text": [
      "Enter a new password:  1234\n",
      "Re-enter your password to confirm:  1234\n"
     ]
    },
    {
     "name": "stdout",
     "output_type": "stream",
     "text": [
      "Password Set!\n"
     ]
    }
   ],
   "source": [
    "'''Write a program that simulates the way in which a user might choose a password.\n",
    "The program should prompt for a new password, and then prompt again. If the two\n",
    "passwords entered are the same the program should say \"Password Set\" or\n",
    "similar, otherwise it should report an error'''\n",
    "\n",
    "password1 = input(\"Enter a new password: \")\n",
    "password2 = input(\"Re-enter your password to confirm: \")\n",
    "if password1 == password2:\n",
    "    print(\"Password Set!\")\n",
    "else:\n",
    "    print(\"Error: Passwords do not match. Please try again.\")\n"
   ]
  },
  {
   "cell_type": "code",
   "execution_count": 2,
   "id": "1655392f-229a-46c8-b2fb-fa13f1a02c69",
   "metadata": {},
   "outputs": [
    {
     "name": "stdin",
     "output_type": "stream",
     "text": [
      "Enter a new password (8-12 characters):  Srimiyayr123\n",
      "Re-enter your password to confirm:  Srimiyayr123\n"
     ]
    },
    {
     "name": "stdout",
     "output_type": "stream",
     "text": [
      "Password Set!\n"
     ]
    }
   ],
   "source": [
    "'''Modify your previous program so that the password must be between 8 and 12\n",
    "characters (inclusive) long'''\n",
    "\n",
    "password1 = input(\"Enter a new password (8-12 characters): \")\n",
    "\n",
    "if 8 <= len(password1) <= 12:\n",
    "    password2 = input(\"Re-enter your password to confirm: \")\n",
    "    if password1 == password2:\n",
    "        print(\"Password Set!\")\n",
    "    else:\n",
    "        print(\"Error: Passwords do not match. Please try again.\")\n",
    "else:\n",
    "    print(\"Error: Password must be between 8 and 12 characters long.\")\n"
   ]
  },
  {
   "cell_type": "code",
   "execution_count": 3,
   "id": "141face2-dd17-479a-bfa8-ddeae69fdb93",
   "metadata": {},
   "outputs": [
    {
     "name": "stdin",
     "output_type": "stream",
     "text": [
      "Enter a new password (8-12 characters):  justin908\n",
      "Re-enter your password to confirm:  justin908\n"
     ]
    },
    {
     "name": "stdout",
     "output_type": "stream",
     "text": [
      "Password Set!\n"
     ]
    }
   ],
   "source": [
    "'''Modify your program again so that the chosen password cannot be one of a list of\n",
    "common passwords, defined thus:\n",
    "BAD_PASSWORDS = ['password', 'letmein', 'sesame', 'hello', 'justinbieber']'''\n",
    "\n",
    "BAD_PASSWORDS = ['password', 'letmein', 'sesame', 'hello', 'justinbieber']\n",
    "\n",
    "password1 = input(\"Enter a new password (8-12 characters): \")\n",
    "\n",
    "if 8 <= len(password1) <= 12:\n",
    "    if password1.lower() in BAD_PASSWORDS:\n",
    "        print(\"Error: This password is too common. Please choose another one.\")\n",
    "    else:\n",
    "        password2 = input(\"Re-enter your password to confirm: \")\n",
    "        if password1 == password2:\n",
    "            print(\"Password Set!\")\n",
    "        else:\n",
    "            print(\"Error: Passwords do not match. Please try again.\")\n",
    "else:\n",
    "    print(\"Error: Password must be between 8 and 12 characters long.\")\n"
   ]
  },
  {
   "cell_type": "code",
   "execution_count": 10,
   "id": "02ad5d12-28fc-4f85-932e-f0fb0ad0d0ba",
   "metadata": {},
   "outputs": [
    {
     "name": "stdin",
     "output_type": "stream",
     "text": [
      "Enter a new password (8-12 characters):  Abcefghijklmnop@150\n"
     ]
    },
    {
     "name": "stdout",
     "output_type": "stream",
     "text": [
      "Error: Password must be between 8 and 12 characters.\n"
     ]
    }
   ],
   "source": [
    "'''Modify your program a final time so that it executes until the user successfully\n",
    "chooses a password. That is, if the password chosen fails any of the checks, the\n",
    "program should return to asking for the password the first time'''\n",
    "\n",
    "password1 = input(\"Enter a new password (8-12 characters): \")\n",
    "\n",
    "if len(password1) < 8 or len(password1) > 12:\n",
    "    print(\"Error: Password must be between 8 and 12 characters.\")\n",
    "else:\n",
    "   \n",
    "    password2 = input(\"Re-enter your password to confirm: \")\n",
    "    if password1 == password2:\n",
    "        print(\"Password Set!\")\n",
    "    else:\n",
    "        print(\"Error: Passwords do not match.\")\n"
   ]
  },
  {
   "cell_type": "code",
   "execution_count": 12,
   "id": "b8f345f8-b8fc-43bd-96e5-f665cc4f5477",
   "metadata": {},
   "outputs": [
    {
     "name": "stdout",
     "output_type": "stream",
     "text": [
      "0 x 7 = 0\n",
      "1 x 7 = 7\n",
      "2 x 7 = 14\n",
      "3 x 7 = 21\n",
      "4 x 7 = 28\n",
      "5 x 7 = 35\n",
      "6 x 7 = 42\n",
      "7 x 7 = 49\n",
      "8 x 7 = 56\n",
      "9 x 7 = 63\n",
      "10 x 7 = 70\n",
      "11 x 7 = 77\n",
      "12 x 7 = 84\n"
     ]
    }
   ],
   "source": [
    "'''Write a program that displays the \"Seven Times Table\". That is, the result of\n",
    "multiplying 7 by every number from 0 to 12 inclusive. The output might start:\n",
    "0 x 7 = 0\n",
    "1 x 7 = 7\n",
    "2 x 7 = 14\n",
    "and so on'''\n",
    "\n",
    "def seven_times_table():\n",
    "    for i in range(13): \n",
    "        print(f\"{i} x 7 = {i * 7}\")\n",
    "seven_times_table()\n"
   ]
  },
  {
   "cell_type": "code",
   "execution_count": 14,
   "id": "6f551fa4-7e4c-4b15-90a4-29e13ab3f313",
   "metadata": {},
   "outputs": [
    {
     "name": "stdin",
     "output_type": "stream",
     "text": [
      "Enter the number of the times table (0-12):  8\n"
     ]
    },
    {
     "name": "stdout",
     "output_type": "stream",
     "text": [
      "0 x 8 = 0\n",
      "1 x 8 = 8\n",
      "2 x 8 = 16\n",
      "3 x 8 = 24\n",
      "4 x 8 = 32\n",
      "5 x 8 = 40\n",
      "6 x 8 = 48\n",
      "7 x 8 = 56\n",
      "8 x 8 = 64\n",
      "9 x 8 = 72\n",
      "10 x 8 = 80\n",
      "11 x 8 = 88\n",
      "12 x 8 = 96\n"
     ]
    }
   ],
   "source": [
    "'''Modify your \"Times Table\" program so that the user enters the number of the table\n",
    "they require. This number should be between 0 and 12 inclusive'''\n",
    "\n",
    "def times_table(number):\n",
    "    for i in range(13):  \n",
    "        print(f\"{i} x {number} = {i * number}\")\n",
    "\n",
    "number = int(input(\"Enter the number of the times table (0-12): \"))\n",
    "\n",
    "if 0 <= number <= 12:\n",
    "    times_table(number) \n",
    "else:\n",
    "    print(\"Error: Please enter a number between 0 and 12.\")\n"
   ]
  },
  {
   "cell_type": "code",
   "execution_count": 4,
   "id": "e156cb54-0520-4101-9b80-3f699c48b37c",
   "metadata": {},
   "outputs": [
    {
     "name": "stdin",
     "output_type": "stream",
     "text": [
      "Enter the number of the times table (0-12 or negative):  8\n"
     ]
    },
    {
     "name": "stdout",
     "output_type": "stream",
     "text": [
      "0 x 8 = 0\n",
      "1 x 8 = 8\n",
      "2 x 8 = 16\n",
      "3 x 8 = 24\n",
      "4 x 8 = 32\n",
      "5 x 8 = 40\n",
      "6 x 8 = 48\n",
      "7 x 8 = 56\n",
      "8 x 8 = 64\n",
      "9 x 8 = 72\n",
      "10 x 8 = 80\n",
      "11 x 8 = 88\n",
      "12 x 8 = 96\n"
     ]
    }
   ],
   "source": [
    "'''Modify the \"Times Table\" again so that the user still enters the number of the table,\n",
    "but if this number is negative the table is printed backwards. So entering \"-7\"\n",
    "would produce the Seven Times Table starting at \"12 times\" down to \"0 times\"'''\n",
    "\n",
    "def times_table(number):\n",
    "    if number < 0:\n",
    "        for i in range(12, -1, -1):  \n",
    "            print(f\"{i} x {number} = {i * number}\")\n",
    "    else:\n",
    "\n",
    "        for i in range(13):\n",
    "            print(f\"{i} x {number} = {i * number}\")\n",
    "\n",
    "number = int(input(\"Enter the number of the times table (0-12 or negative): \"))\n",
    "\n",
    "if -12 <= number <= 12:  \n",
    "    times_table(number)  \n",
    "else:\n",
    "    print(\"Error: Please enter a number between -12 and 12.\")\n"
   ]
  },
  {
   "cell_type": "code",
   "execution_count": null,
   "id": "981fc656-54e6-45e9-a633-ea43c78de4ec",
   "metadata": {},
   "outputs": [],
   "source": []
  }
 ],
 "metadata": {
  "kernelspec": {
   "display_name": "Python 3 (ipykernel)",
   "language": "python",
   "name": "python3"
  },
  "language_info": {
   "codemirror_mode": {
    "name": "ipython",
    "version": 3
   },
   "file_extension": ".py",
   "mimetype": "text/x-python",
   "name": "python",
   "nbconvert_exporter": "python",
   "pygments_lexer": "ipython3",
   "version": "3.12.3"
  }
 },
 "nbformat": 4,
 "nbformat_minor": 5
}
