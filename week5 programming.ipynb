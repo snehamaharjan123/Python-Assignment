{
 "cells": [
  {
   "cell_type": "code",
   "execution_count": 2,
   "id": "e887ebd6-d5a0-4b62-aa70-c8ca79a22a7d",
   "metadata": {},
   "outputs": [
    {
     "name": "stdout",
     "output_type": "stream",
     "text": [
      "Windows\n"
     ]
    }
   ],
   "source": [
    "'''Using command-line arguments involves the sys module. Review the docs for this\n",
    "module and using the information in there write a short program that when run\n",
    "from the command-line reports what operating system platform is being used'''\n",
    "import platform\n",
    "print(platform.system())\n"
   ]
  },
  {
   "cell_type": "code",
   "execution_count": 3,
   "id": "d424b210-b8a2-4fc9-a332-66e4d3694d20",
   "metadata": {},
   "outputs": [
    {
     "name": "stdout",
     "output_type": "stream",
     "text": [
      "2\n"
     ]
    }
   ],
   "source": [
    "'''Write a program that, when run from the command line, reports how many\n",
    "arguments were provided. (Remember that the program name itself is not an\n",
    "argument)'''\n",
    "import sys\n",
    "\n",
    "print(len(sys.argv) - 1)\n"
   ]
  },
  {
   "cell_type": "code",
   "execution_count": 4,
   "id": "b381782b-068a-4e7a-8a3f-9f32a2afcefd",
   "metadata": {},
   "outputs": [
    {
     "name": "stdout",
     "output_type": "stream",
     "text": [
      "-f\n"
     ]
    }
   ],
   "source": [
    "'''Write a program that takes a bunch of command-line arguments, and then prints\n",
    "out the shortest. If there is more than one of the shortest length, any will do.\n",
    "Hint: Don't overthink this. A good way to find the shortest is just to sort them'''\n",
    "import sys\n",
    "\n",
    "if len(sys.argv) > 1:\n",
    "    shortest = sys.argv[1]\n",
    "    for arg in sys.argv[2:]:\n",
    "        if len(arg) < len(shortest):\n",
    "            shortest = arg\n",
    "    print(shortest)\n"
   ]
  },
  {
   "cell_type": "code",
   "execution_count": 20,
   "id": "f1e461fb-02fb-4d04-a3ac-3664209bc34b",
   "metadata": {},
   "outputs": [
    {
     "name": "stdout",
     "output_type": "stream",
     "text": [
      "Error accessing the website: Invalid URL '-f': No scheme supplied. Perhaps you meant https://-f?\n"
     ]
    }
   ],
   "source": [
    "'''Write a program that takes a URL as a command-line argument and reports\n",
    "whether or not there is a working website at that address.\n",
    "Hint: You need to get the HTTP response code.\n",
    "Another Hint: StackOverflow is your friend'''\n",
    "import sys\n",
    "import requests\n",
    "\n",
    "if len(sys.argv) > 1:\n",
    "    url = sys.argv[1]\n",
    "    try:\n",
    "        response = requests.get(url)\n",
    "        response.raise_for_status()  # Raise an exception for error HTTP status codes\n",
    "        print(\"Website is working.\")\n",
    "    except requests.exceptions.RequestException as e:\n",
    "        print(f\"Error accessing the website: {e}\")\n",
    "else:\n",
    "    print(\"Please provide a URL.\")\n",
    "\n",
    "\n"
   ]
  },
  {
   "cell_type": "code",
   "execution_count": 15,
   "id": "e3eee9c6-08b7-40f6-9d5f-227d20e50b4f",
   "metadata": {},
   "outputs": [
    {
     "name": "stdout",
     "output_type": "stream",
     "text": [
      "No valid temperature readings provided.\n"
     ]
    }
   ],
   "source": [
    "'''Last week you wrote a program that processed a collection of temperature readings\n",
    "entered by the user and displayed the maximum, minimum, and mean. Create a\n",
    "version of that program that takes the values from the command-line instead. Be\n",
    "sure to handle the case where no arguments are provided!'''\n",
    "import sys\n",
    "\n",
    "if len(sys.argv) > 1:\n",
    "    temperatures = []\n",
    "    for arg in sys.argv[1:]:\n",
    "        try:\n",
    "            temperatures.append(float(arg))\n",
    "        except ValueError:\n",
    "            continue  \n",
    "\n",
    "    if temperatures:\n",
    "        print(f\"Max: {max(temperatures)}\")\n",
    "        print(f\"Min: {min(temperatures)}\")\n",
    "        print(f\"Mean: {sum(temperatures) / len(temperatures)}\")\n",
    "    else:\n",
    "        print(\"No valid temperature readings provided.\")\n",
    "else:\n",
    "    print(\"No temperatures provided.\")\n"
   ]
  },
  {
   "cell_type": "code",
   "execution_count": 19,
   "id": "3dce31a8-846f-432a-acaa-6d605f8de6a1",
   "metadata": {},
   "outputs": [
    {
     "name": "stdout",
     "output_type": "stream",
     "text": [
      "Error: File '-f' not found.\n"
     ]
    }
   ],
   "source": [
    "'''Write a program that takes the name of a file as a command-line argument, and\n",
    "creates a backup copy of that file. The backup should contain an exact copy of the\n",
    "contents of the original and should, obviously, have a different name.\n",
    "Hint: By now, you should be getting the idea that there is a built-in way to do the\n",
    "heavy liing here! Take a look at the \"Brief Tour of the Standard Library\" in the docs'''\n",
    "import shutil\n",
    "import sys\n",
    "\n",
    "def backup_file(filename):\n",
    "    backup_filename = filename + \".bak\"\n",
    "    try:\n",
    "        shutil.copy2(filename, backup_filename)\n",
    "        print(f\"Backup of '{filename}' created successfully as '{backup_filename}'.\")\n",
    "    except FileNotFoundError:\n",
    "        print(f\"Error: File '{filename}' not found.\")\n",
    "    except shutil.Error as e:\n",
    "        print(f\"Error copying file: {e}\")\n",
    "\n",
    "if len(sys.argv) > 1:\n",
    "    filename = sys.argv[1]\n",
    "    backup_file(filename)\n",
    "else:\n",
    "    print(\"Please provide a filename as an argument.\")"
   ]
  },
  {
   "cell_type": "code",
   "execution_count": null,
   "id": "f1e64178-82b0-4f2d-a344-ce4fb967e902",
   "metadata": {},
   "outputs": [],
   "source": []
  }
 ],
 "metadata": {
  "kernelspec": {
   "display_name": "Python 3 (ipykernel)",
   "language": "python",
   "name": "python3"
  },
  "language_info": {
   "codemirror_mode": {
    "name": "ipython",
    "version": 3
   },
   "file_extension": ".py",
   "mimetype": "text/x-python",
   "name": "python",
   "nbconvert_exporter": "python",
   "pygments_lexer": "ipython3",
   "version": "3.12.3"
  }
 },
 "nbformat": 4,
 "nbformat_minor": 5
}
