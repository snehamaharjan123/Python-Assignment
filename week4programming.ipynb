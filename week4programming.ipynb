{
 "cells": [
  {
   "cell_type": "code",
   "execution_count": 3,
   "id": "54671161-0dd3-4c70-a647-1a7e723fb6ae",
   "metadata": {},
   "outputs": [
    {
     "name": "stdin",
     "output_type": "stream",
     "text": [
      " 40\n"
     ]
    },
    {
     "name": "stdout",
     "output_type": "stream",
     "text": [
      "True\n"
     ]
    }
   ],
   "source": [
    "'''Functions are often used to validate input. Write a function that accepts a single\n",
    "integer as a parameter and returns True if the integer is in the range 0 to 100\n",
    "(inclusive), or False otherwise. Write a short program to test the function'''\n",
    "\n",
    "def is_in_range(num):\n",
    "    return 0 <= num <= 100\n",
    "\n",
    "test_num = int(input())\n",
    "print(is_in_range(test_num))\n"
   ]
  },
  {
   "cell_type": "code",
   "execution_count": 9,
   "id": "843fbd6c-219f-4943-964e-5abc7245ea2f",
   "metadata": {},
   "outputs": [
    {
     "name": "stdin",
     "output_type": "stream",
     "text": [
      " hello world\n"
     ]
    },
    {
     "name": "stdout",
     "output_type": "stream",
     "text": [
      "(0, 10)\n"
     ]
    }
   ],
   "source": [
    "'''Write a function that has a single string as its parameter, and returns the number of\n",
    "uppercase letters, and the number of lowercase letters in the string. Test the\n",
    "function with a short program'''\n",
    "\n",
    "\n",
    "def count_upper_lower(string):\n",
    "    upper = 0\n",
    "    lower = 0\n",
    "    for char in string:\n",
    "        if char.isupper():\n",
    "            upper += 1\n",
    "        elif char.islower():\n",
    "            lower += 1\n",
    "    return upper, lower\n",
    "\n",
    "test_string = input()\n",
    "print(count_upper_lower(test_string))\n"
   ]
  },
  {
   "cell_type": "code",
   "execution_count": 6,
   "id": "fd9d7bc3-60cc-4d0a-b3aa-ccb6a451c0d0",
   "metadata": {},
   "outputs": [
    {
     "name": "stdin",
     "output_type": "stream",
     "text": [
      "Enter your name:   ARTHUR\n"
     ]
    },
    {
     "name": "stdout",
     "output_type": "stream",
     "text": [
      "Hello,  arthur!\n"
     ]
    }
   ],
   "source": [
    "'''Modify your \"greetings\" program so that the first letter of the name entered is\n",
    "always in uppercase with the rest in lowercase. This should happen even if the user\n",
    "entered their name differently. So if the user entered arthur, ARTHUR, or even\n",
    "arTHur the name should be displayed as Arthur'''\n",
    "\n",
    "name = input(\"Enter your name: \")\n",
    "print(f\"Hello, {name.capitalize()}!\")\n"
   ]
  },
  {
   "cell_type": "code",
   "execution_count": 11,
   "id": "fd81a1ac-fa0e-4edc-a544-256e524aead3",
   "metadata": {},
   "outputs": [
    {
     "name": "stdin",
     "output_type": "stream",
     "text": [
      " ram shah\n"
     ]
    },
    {
     "name": "stdout",
     "output_type": "stream",
     "text": [
      "ram sha\n"
     ]
    }
   ],
   "source": [
    "'''When processing data it is often useful to remove the last character from some\n",
    "input (it is often a newline). Write and test a function that takes a string parameter\n",
    "and returns it with the last character removed. (If the string contains one or fewer\n",
    "characters, return it unchanged.)'''\n",
    "\n",
    "def remove_last_character(input_string):\n",
    "    if len(input_string) > 1:\n",
    "        return input_string[:-1]\n",
    "    return input_string\n",
    "\n",
    "string = input()\n",
    "result = remove_last_character(string)\n",
    "print(result)\n"
   ]
  },
  {
   "cell_type": "code",
   "execution_count": 5,
   "id": "0d9d301c-b2ed-48c4-9e2d-b14418dd8b6e",
   "metadata": {},
   "outputs": [
    {
     "name": "stdin",
     "output_type": "stream",
     "text": [
      " 900\n"
     ]
    },
    {
     "name": "stdout",
     "output_type": "stream",
     "text": [
      "1652.0\n"
     ]
    },
    {
     "name": "stdin",
     "output_type": "stream",
     "text": [
      " 90\n"
     ]
    },
    {
     "name": "stdout",
     "output_type": "stream",
     "text": [
      "32.22222222222222\n"
     ]
    }
   ],
   "source": [
    "'''Write and test a function that converts a temperature measured in degrees\n",
    "centigrade into the equivalent in fahrenheit, and another that does the reverse\n",
    "conversion. Test both functions. (Google will find you the formulae)'''\n",
    "\n",
    "def celsius_to_fahrenheit(celsius):\n",
    "    return (celsius * 9/5) + 32\n",
    "\n",
    "def fahrenheit_to_celsius(fahrenheit):\n",
    "    return (fahrenheit - 32) * 5/9\n",
    "\n",
    "c = float(input())\n",
    "print(celsius_to_fahrenheit(c))\n",
    "\n",
    "f = float(input())\n",
    "print(fahrenheit_to_celsius(f))\n"
   ]
  },
  {
   "cell_type": "code",
   "execution_count": 14,
   "id": "4efec113-99e4-42c2-8886-59a9ed07fe92",
   "metadata": {},
   "outputs": [
    {
     "name": "stdin",
     "output_type": "stream",
     "text": [
      " 900\n"
     ]
    },
    {
     "name": "stdout",
     "output_type": "stream",
     "text": [
      "194.00F\n"
     ]
    }
   ],
   "source": [
    "'''. Write a program that takes a centigrade temperature and displays the equivalent in\n",
    "fahrenheit. The input should be a number followed by a letter C. The output should\n",
    "be in the same format'''\n",
    "\n",
    "def celsius_to_fahrenheit(celsius):\n",
    "    return (celsius * 9/5) + 32\n",
    "\n",
    "temp_input = input()\n",
    "celsius = float(temp_input[:-1])\n",
    "fahrenheit = celsius_to_fahrenheit(celsius)\n",
    "print(f\"{fahrenheit:.2f}F\")\n"
   ]
  },
  {
   "cell_type": "code",
   "execution_count": 17,
   "id": "cdf835d8-266b-4762-bbcf-bafe1e836442",
   "metadata": {},
   "outputs": [
    {
     "name": "stdin",
     "output_type": "stream",
     "text": [
      " 45C\n",
      " 43C\n",
      " 78C\n",
      " 55C\n",
      " 77C\n",
      " 65C\n"
     ]
    },
    {
     "name": "stdout",
     "output_type": "stream",
     "text": [
      "172.40 109.40 140.90\n"
     ]
    }
   ],
   "source": [
    "'''Write a program that reads 6 temperatures (in the same format as before), and\n",
    "displays the maximum, minimum, and mean of the values.\n",
    "Hint: You should know there are built-in functions for max and min. If you hunt, you\n",
    "might also find one for the mean'''\n",
    "\n",
    "def celsius_to_fahrenheit(celsius):\n",
    "    return (celsius * 9/5) + 32\n",
    "\n",
    "temps = [float(input()[:-1]) for _ in range(6)]\n",
    "converted_temps = [celsius_to_fahrenheit(temp) for temp in temps]\n",
    "\n",
    "print(f\"{max(converted_temps):.2f} {min(converted_temps):.2f} {sum(converted_temps)/6:.2f}\")\n"
   ]
  },
  {
   "cell_type": "code",
   "execution_count": 4,
   "id": "290a55b2-d4ec-4d01-b24b-dc8f2d320260",
   "metadata": {},
   "outputs": [
    {
     "name": "stdout",
     "output_type": "stream",
     "text": [
      "77.0\n",
      "25.0\n"
     ]
    }
   ],
   "source": [
    "'''Write and test a function that converts a temperature measured in degrees\n",
    "centigrade into the equivalent in fahrenheit, and another that does the reverse\n",
    "conversion. Test both functions. (Google will find you the formulae)'''\n",
    "\n",
    "def celsius_to_fahrenheit(celsius):\n",
    "    return (celsius * 9 / 5) + 32\n",
    "\n",
    "def fahrenheit_to_celsius(fahrenheit):\n",
    "    return (fahrenheit - 32) * 5 / 9\n",
    "\n",
    "c_temp = 25\n",
    "f_result = celsius_to_fahrenheit(c_temp)\n",
    "print(f_result)\n",
    "\n",
    "f_temp = 77\n",
    "c_result = fahrenheit_to_celsius(f_temp)\n",
    "print(c_result)\n"
   ]
  },
  {
   "cell_type": "markdown",
   "id": "dc04459c-3c40-4231-841a-f6ee68b2c10e",
   "metadata": {
    "jp-MarkdownHeadingCollapsed": true
   },
   "source": [
    "''' Modify the previous program so that it can process any number of values. The input\n",
    "terminates when the user just pressed \"Enter\" at the prompt rather than entering a\n",
    "value'''\n",
    "def get_data():\n",
    "    while True:\n",
    "        temperature= input(\"Enter the temperature in centigrade'ending only with C': \")\n",
    "        if temperature.endswith('C'):\n",
    "            return float(temperature[:-1])\n",
    "        if temperature == \"\":\n",
    "            return None\n",
    "\n",
    "def calculate_mean(numbers):\n",
    "    return sum(numbers)/len(numbers)\n",
    "\n",
    "def display(max_tempe, min_tempe, mean_tempe):\n",
    "    print(f\"Maximum Temperature: {max_tempe}C\")\n",
    "    print(f\"Minimum Temperature: {min_tempe}C\")\n",
    "    print(f\"Mean Temperature: {mean_tempe:}C\")\n",
    "\n",
    "temperatures = []\n",
    "print(f\"Enter any number of temperature or press 'Enter' to exit. \")\n",
    "while True:\n",
    "    temperature = get_data()\n",
    "    if temperature is None:\n",
    "        break\n",
    "    temperatures.append(temperature)\n",
    "if temperatures:\n",
    "    max_tempe = max(temperatures)\n",
    "    min_tempe = min(temperatures)\n",
    "    mean_tempe = calculate_mean(temperatures)\n",
    "   \n",
    "    display(max_tempe, min_tempe, mean_tempe)\n",
    "else:\n",
    "    print(f\"No temperatures entered by user. \")"
   ]
  },
  {
   "cell_type": "code",
   "execution_count": 1,
   "id": "75686bac-155e-4cf0-aed9-a4d7601c4a24",
   "metadata": {},
   "outputs": [
    {
     "name": "stdout",
     "output_type": "stream",
     "text": [
      "Enter any number of temperature or press 'Enter' to exit. \n"
     ]
    },
    {
     "name": "stdin",
     "output_type": "stream",
     "text": [
      "Enter the temperature in centigrade'ending only with C':  10C\n",
      "Enter the temperature in centigrade'ending only with C':  25C\n",
      "Enter the temperature in centigrade'ending only with C':  60C\n",
      "Enter the temperature in centigrade'ending only with C':  77C\n",
      "Enter the temperature in centigrade'ending only with C':  50C\n",
      "Enter the temperature in centigrade'ending only with C':  \n"
     ]
    },
    {
     "name": "stdout",
     "output_type": "stream",
     "text": [
      "Maximum Temperature: 77.0C\n",
      "Minimum Temperature: 10.0C\n",
      "Mean Temperature: 44.4C\n"
     ]
    }
   ],
   "source": [
    "'''. Modify the previous program so that it can process any number of values. The input\n",
    "terminates when the user just pressed \"Enter\" at the prompt rather than entering a\n",
    "value'''\n",
    "def get_data():\n",
    "    while True:\n",
    "        temperature= input(\"Enter the temperature in centigrade'ending only with C': \")\n",
    "        if temperature.endswith('C'):\n",
    "            return float(temperature[:-1])\n",
    "        if temperature == \"\":\n",
    "            return None\n",
    "\n",
    "def calculate_mean(numbers):\n",
    "    return sum(numbers)/len(numbers)\n",
    "\n",
    "def display(max_tempe, min_tempe, mean_tempe):\n",
    "    print(f\"Maximum Temperature: {max_tempe}C\")\n",
    "    print(f\"Minimum Temperature: {min_tempe}C\")\n",
    "    print(f\"Mean Temperature: {mean_tempe:}C\")\n",
    "\n",
    "temperatures = []\n",
    "print(f\"Enter any number of temperature or press 'Enter' to exit. \")\n",
    "while True:\n",
    "    temperature = get_data()\n",
    "    if temperature is None:\n",
    "        break\n",
    "    temperatures.append(temperature)\n",
    "if temperatures:\n",
    "    max_tempe = max(temperatures)\n",
    "    min_tempe = min(temperatures)\n",
    "    mean_tempe = calculate_mean(temperatures)\n",
    "   \n",
    "    display(max_tempe, min_tempe, mean_tempe)\n",
    "else:\n",
    "    print(f\"No temperatures entered by user. \")"
   ]
  },
  {
   "cell_type": "code",
   "execution_count": null,
   "id": "68ebcf8f-3b57-48dd-b202-c0b3dced2d7a",
   "metadata": {},
   "outputs": [],
   "source": []
  }
 ],
 "metadata": {
  "kernelspec": {
   "display_name": "Python 3 (ipykernel)",
   "language": "python",
   "name": "python3"
  },
  "language_info": {
   "codemirror_mode": {
    "name": "ipython",
    "version": 3
   },
   "file_extension": ".py",
   "mimetype": "text/x-python",
   "name": "python",
   "nbconvert_exporter": "python",
   "pygments_lexer": "ipython3",
   "version": "3.12.3"
  }
 },
 "nbformat": 4,
 "nbformat_minor": 5
}
