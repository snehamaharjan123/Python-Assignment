{
 "cells": [
  {
   "cell_type": "code",
   "execution_count": 1,
   "id": "6d63622d-12df-4690-be3b-fefec589fd7a",
   "metadata": {},
   "outputs": [
    {
     "name": "stdin",
     "output_type": "stream",
     "text": [
      "Hello, what is your name?  Mr Apricot\n"
     ]
    },
    {
     "name": "stdout",
     "output_type": "stream",
     "text": [
      "Hello, Mr Apricot. Good to meet you!\n"
     ]
    }
   ],
   "source": [
    "'''1. Last week you wrote a program that printed out a cheery greeting including your\n",
    "name. Take a copy of it, and modify it so that the user enters their name at the\n",
    "keyboard, and then receives a greeting. For example:\n",
    "Hello, what is your name? Mr Apricot\n",
    "Hello, Mr Apricot. Good to meet you!'''\n",
    "\n",
    "name = input(\"Hello, what is your name? \")\n",
    "print(f\"Hello, {name}. Good to meet you!\")\n"
   ]
  },
  {
   "cell_type": "code",
   "execution_count": 1,
   "id": "6a592d77-45f1-46ef-b848-eae4bc6051ea",
   "metadata": {},
   "outputs": [
    {
     "name": "stdin",
     "output_type": "stream",
     "text": [
      "What's the temperature in Celsius?  90\n"
     ]
    },
    {
     "name": "stdout",
     "output_type": "stream",
     "text": [
      "90.0°C is the same as 194.0°F.\n"
     ]
    }
   ],
   "source": [
    "'''Write a program that prompts a user to enter a temperature in Celsius, and then displays the corresponding temperature in Fahrenheit, like so:\n",
    "Enter a temperature in Celsius: 32.5\n",
    "32.5C is equivalent to 90.5F'''\n",
    "\n",
    "c = float(input(\"What's the temperature in Celsius? \"))\n",
    "f = (c * 9 / 5) + 32\n",
    "print(f\"{c}°C is the same as {f}°F.\")\n"
   ]
  },
  {
   "cell_type": "code",
   "execution_count": 4,
   "id": "8ddf1687-a1f4-42c0-aed5-0d41f5916390",
   "metadata": {},
   "outputs": [
    {
     "name": "stdin",
     "output_type": "stream",
     "text": [
      "Enter the number of students:  113\n",
      "Enter the group size:  22\n"
     ]
    },
    {
     "name": "stdout",
     "output_type": "stream",
     "text": [
      "5 groups are needed, with 3 students left over.\n"
     ]
    }
   ],
   "source": [
    "'''The Head of Computing at the University of Poppleton is tasked with dividing a\n",
    "group of students into lab groups. A lab group is usually 24 students, but this is\n",
    "sometimes varied to create groups of similar size. Write a program that prompts for\n",
    "the number of students and group size, and then displays how many groups will be\n",
    "needed and how many will be le over in a smaller group.\n",
    "How many students? 113\n",
    "Required group size? 22\n",
    "There will be 5 groups with 3 students left over.\n",
    "For bonus credit, see if you can fix the grammar in the output. So if there were 101\n",
    "students in groups of 20 the output would be:\n",
    "There will be 5 groups with 1 student left over'''\n",
    "\n",
    "students = int(input(\"Enter the number of students: \"))\n",
    "group_size = int(input(\"Enter the group size: \"))\n",
    "print(f\"{students // group_size} groups are needed, with {students % group_size} students left over.\")\n"
   ]
  },
  {
   "cell_type": "code",
   "execution_count": 1,
   "id": "f95397d6-062d-4fa3-a1c3-b43e06921be4",
   "metadata": {},
   "outputs": [
    {
     "name": "stdin",
     "output_type": "stream",
     "text": [
      "Enter the number of sweets:  55\n",
      "Enter the number of pupils:  5\n"
     ]
    },
    {
     "name": "stdout",
     "output_type": "stream",
     "text": [
      "Each person gets 11 sweets, and there are 0 sweets left over.\n"
     ]
    }
   ],
   "source": [
    "'''A kindly teacher wishes to distribute a tub of sweets between her pupils. She will\n",
    "first count the sweets and then divide them according to how many pupils attend\n",
    "that day. Write a program that will tell the teacher how many sweets to give to each\n",
    "pupil, and how many she will have left over'''\n",
    "\n",
    "sweets = int(input(\"Enter the number of sweets: \"))\n",
    "pupil = int(input(\"Enter the number of pupils: \"))\n",
    "sweets_per_pupil = sweets // pupil\n",
    "leftover_sweets = sweets % pupil\n",
    "print(f\"Each person gets {sweets_per_pupil} sweets, and there are {leftover_sweets} sweets left over.\")\n"
   ]
  },
  {
   "cell_type": "code",
   "execution_count": 3,
   "id": "6b468edb-93e6-467f-b8c6-33831ab9556a",
   "metadata": {},
   "outputs": [
    {
     "name": "stdin",
     "output_type": "stream",
     "text": [
      "How many students?  50\n",
      "Required group size?  4\n"
     ]
    },
    {
     "name": "stdout",
     "output_type": "stream",
     "text": [
      "There will be 12 groups with 2 students left over.\n"
     ]
    }
   ],
   "source": [
    "'''The Head of Computing at the University of Poppleton is tasked with dividing a\n",
    "group of students into lab groups. A lab group is usually 24 students, but this is\n",
    "sometimes varied to create groups of similar size. Write a program that prompts for\n",
    "the number of students and group size, and then displays how many groups will be\n",
    "needed and how many will be le over in a smaller group.\n",
    "How many students? \n",
    "Required group size? \n",
    "There will be 5 groups with 3 students left over.\n",
    "For bonus credit, see if you can fix the grammar in the output. So if there were 101\n",
    "students in groups of 20 the output would be:'''\n",
    "students = int(input(\"How many students? \"))\n",
    "group_size = int(input(\"Required group size? \"))\n",
    "num_groups = students // group_size\n",
    "leftover = students % group_size\n",
    "print(f\"There will be {num_groups} groups with {leftover} student{'s' if leftover != 1 else ''} left over.\")\n",
    "\n"
   ]
  },
  {
   "cell_type": "code",
   "execution_count": null,
   "id": "5335da8c-28ad-47a7-9ad2-4fc6bf2ad065",
   "metadata": {},
   "outputs": [],
   "source": []
  }
 ],
 "metadata": {
  "kernelspec": {
   "display_name": "Python 3 (ipykernel)",
   "language": "python",
   "name": "python3"
  },
  "language_info": {
   "codemirror_mode": {
    "name": "ipython",
    "version": 3
   },
   "file_extension": ".py",
   "mimetype": "text/x-python",
   "name": "python",
   "nbconvert_exporter": "python",
   "pygments_lexer": "ipython3",
   "version": "3.12.3"
  }
 },
 "nbformat": 4,
 "nbformat_minor": 5
}
