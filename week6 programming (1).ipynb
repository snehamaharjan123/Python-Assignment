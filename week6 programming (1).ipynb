{
 "cells": [
  {
   "cell_type": "code",
   "execution_count": 1,
   "id": "d3378175-b969-42e1-ba8c-30b47a2423f5",
   "metadata": {},
   "outputs": [
    {
     "name": "stdout",
     "output_type": "stream",
     "text": [
      "1010\n"
     ]
    }
   ],
   "source": [
    "'''Write a function that accepts a positive integer as a parameter and then returns a\n",
    "representation of that number in binary (base 2).\n",
    "Hint: This is in many ways a trick question. Think!'''\n",
    "\n",
    "def to_binary(n):\n",
    "    binary = 0\n",
    "    place = 1\n",
    "    for i in range(32):  \n",
    "        remainder = n % 2\n",
    "        binary += remainder * place\n",
    "        place *= 10\n",
    "        n //= 2\n",
    "        if n == 0: \n",
    "            return binary\n",
    "    return binary\n",
    "print(to_binary(10)) \n"
   ]
  },
  {
   "cell_type": "code",
   "execution_count": 2,
   "id": "77110330-4b4d-4f23-8ec3-f8972f7b3e72",
   "metadata": {},
   "outputs": [
    {
     "name": "stdout",
     "output_type": "stream",
     "text": [
      "[1, 2, 5, 10]\n"
     ]
    }
   ],
   "source": [
    "'''Write and test a function that takes an integer as its parameter and returns the\n",
    "factors of that integer. (A factor is an integer which can be multiplied by another to\n",
    "yield the original)'''\n",
    "def find_factors(n):\n",
    "    factors = []\n",
    "    for i in range(1, n + 1):\n",
    "        if n % i == 0:  \n",
    "            factors.append(i)\n",
    "    return factors\n",
    "print(find_factors(10))  \n"
   ]
  },
  {
   "cell_type": "code",
   "execution_count": 3,
   "id": "5fbb33d6-efcd-40fa-b5c7-b89cb8effd30",
   "metadata": {},
   "outputs": [
    {
     "name": "stdout",
     "output_type": "stream",
     "text": [
      "False\n",
      "True\n"
     ]
    }
   ],
   "source": [
    "'''Write and test a function that determines if a given integer is a prime number. A\n",
    "prime number is an integer greater than 1 that cannot be produced by multiplying\n",
    "two other integers'''\n",
    "def is_prime(n):\n",
    "    if n <= 1:\n",
    "        return False  \n",
    "    for i in range(2, int(n ** 0.5) + 1): \n",
    "        if n % i == 0:\n",
    "            return False  \n",
    "    return True  \n",
    "print(is_prime(10))  \n",
    "print(is_prime(7))   \n"
   ]
  },
  {
   "cell_type": "code",
   "execution_count": 5,
   "id": "9bde69b2-1dc3-4013-b6c8-88c6d55b23da",
   "metadata": {},
   "outputs": [
    {
     "name": "stdout",
     "output_type": "stream",
     "text": [
      "ALLIVKNIP\n"
     ]
    }
   ],
   "source": [
    "'''Computers are commonly used in encryption. A very simple form of encryption\n",
    "(more accurately \"obfuscation\") would be to remove the spaces from a message\n",
    "and reverse the resulting string. Write, and test, a function that takes a string\n",
    "containing a message and \"encrypts\" it in this way'''\n",
    "def encrypt_message(message):\n",
    "    encrypted = \"\"\n",
    "    for char in message:\n",
    "        if char != \" \":\n",
    "            encrypted = char + encrypted\n",
    "    return encrypted\n",
    "message = \"PINK VILLA\"\n",
    "encrypted = encrypt_message(message)\n",
    "print(encrypted)  "
   ]
  },
  {
   "cell_type": "code",
   "execution_count": 9,
   "id": "4f7f41a8-ff0b-40e6-8cad-d9c460f4b3be",
   "metadata": {},
   "outputs": [
    {
     "name": "stdout",
     "output_type": "stream",
     "text": [
      "Encrypted message: send cheesue\n",
      "Interval used: 5\n"
     ]
    }
   ],
   "source": [
    "'''Another way to hide a message is to include the letters that make it up within\n",
    "seemingly random text. The letters of the message might be every fih character,\n",
    "for example. Write and test a function that does such encryption. It should\n",
    "randomly generate an interval (between 2 and 20), space the message out\n",
    "accordingly, and should fill the gaps with random letters. The function should\n",
    "return the encrypted message and the interval used.\n",
    "For example, if the message is \"send cheese\", the random interval is 2, and for\n",
    "clarity the random letters are not random:\n",
    "send cheese\n",
    "s e n d c h e e s e\n",
    "sxyexynxydxy cxyhxyexyexysxye'''\n",
    "import random\n",
    "import string\n",
    "\n",
    "def encrypt_message(message):\n",
    "    interval = random.randint(2, 5)  \n",
    "    encrypted_message = \"\"\n",
    "    count = 0\n",
    "    \n",
    "    for char in message:\n",
    "        encrypted_message += char\n",
    "        count += 1\n",
    "        if char != \" \" and count % interval == 0:\n",
    "            encrypted_message += random.choice(string.ascii_lowercase)\n",
    "    \n",
    "    return encrypted_message, interval\n",
    "message = \"send cheese\"\n",
    "encrypted, interval = encrypt_message(message)\n",
    "print(f\"Encrypted message: {encrypted}\")\n",
    "print(f\"Interval used: {interval}\")\n"
   ]
  },
  {
   "cell_type": "code",
   "execution_count": 10,
   "id": "05627981-05fb-4332-b786-969eb2e9c486",
   "metadata": {},
   "outputs": [
    {
     "name": "stdout",
     "output_type": "stream",
     "text": [
      "Decrypted message: senx cvxese\n"
     ]
    }
   ],
   "source": [
    "'''Write a program that decrypts messages encoded as above'''\n",
    "def decrypt_message(encrypted_message, interval):\n",
    "    decrypted_message = \"\"\n",
    "    count = 0\n",
    "    \n",
    "    for i in range(len(encrypted_message)):\n",
    "        count += 1\n",
    "        if count % (interval + 1) != 0:  \n",
    "            decrypted_message += encrypted_message[i]\n",
    "    \n",
    "    return decrypted_message\n",
    "\n",
    "encrypted_message = \"sendx chvxeese\"  \n",
    "interval = 3  \n",
    "decrypted = decrypt_message(encrypted_message, interval)\n",
    "print(f\"Decrypted message: {decrypted}\")\n"
   ]
  },
  {
   "cell_type": "code",
   "execution_count": null,
   "id": "7f9b0f7e-9897-47ff-8a45-ae716dbe5ef6",
   "metadata": {},
   "outputs": [],
   "source": []
  }
 ],
 "metadata": {
  "kernelspec": {
   "display_name": "Python 3 (ipykernel)",
   "language": "python",
   "name": "python3"
  },
  "language_info": {
   "codemirror_mode": {
    "name": "ipython",
    "version": 3
   },
   "file_extension": ".py",
   "mimetype": "text/x-python",
   "name": "python",
   "nbconvert_exporter": "python",
   "pygments_lexer": "ipython3",
   "version": "3.12.3"
  }
 },
 "nbformat": 4,
 "nbformat_minor": 5
}
